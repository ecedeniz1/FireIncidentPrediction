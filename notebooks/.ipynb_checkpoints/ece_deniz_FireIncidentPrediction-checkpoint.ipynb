{
 "cells": [
  {
   "cell_type": "markdown",
   "id": "5d8584c4-9185-43ca-9f89-3e2da978cbc1",
   "metadata": {},
   "source": [
    "DELIVERABLE 1"
   ]
  },
  {
   "cell_type": "markdown",
   "id": "69795225-e525-4621-8c44-72db89d3c642",
   "metadata": {},
   "source": [
    "FOR QUESTION 1: \n",
    "What are the temporal and spatial patterns of fire incidents in Izmir in 2023, and how do socioeconomic indicators (e.g., neighborhood income levels, building types) influence fire incident rates?"
   ]
  },
  {
   "cell_type": "code",
   "execution_count": 1,
   "id": "06f9f073-cd15-4dd7-a484-4c11c9d3b3b9",
   "metadata": {},
   "outputs": [
    {
     "name": "stdout",
     "output_type": "stream",
     "text": [
      "Şu anki dizin: C:\\Users\\Dell\\Desktop\\DI501\\Term Project\\FireIncidentPrediction\\notebooks\n"
     ]
    }
   ],
   "source": [
    "import os\n",
    "print(\"Şu anki dizin:\", os.getcwd())\n"
   ]
  },
  {
   "cell_type": "code",
   "execution_count": 5,
   "id": "f067d949-7bc2-408d-982e-1d5ce33710bf",
   "metadata": {},
   "outputs": [
    {
     "name": "stdout",
     "output_type": "stream",
     "text": [
      "<class 'pandas.core.frame.DataFrame'>\n",
      "RangeIndex: 12986 entries, 0 to 12985\n",
      "Data columns (total 23 columns):\n",
      " #   Column                                    Non-Null Count  Dtype         \n",
      "---  ------                                    --------------  -----         \n",
      " 0   TARIH                                     12986 non-null  datetime64[ns]\n",
      " 1   YANGIN_TURU                               12986 non-null  object        \n",
      " 2   YANGIN_SEBEBİ                             12986 non-null  object        \n",
      " 3   YANGIN_SONUCU                             12986 non-null  object        \n",
      " 4   YAPI_SEKLI                                3116 non-null   object        \n",
      " 5   ERKEK_VEFAT                               12986 non-null  int64         \n",
      " 6   KADIN_VEFAT                               12986 non-null  int64         \n",
      " 7   ITFAIYECI_VEFAT                           12986 non-null  int64         \n",
      " 8   ERKEK_YARALI                              12986 non-null  int64         \n",
      " 9   KADIN_YARALI                              12986 non-null  int64         \n",
      " 10  ITFAIYECI_YARALI                          12986 non-null  int64         \n",
      " 11  BUYUK_BAS_VEFAT                           12986 non-null  int64         \n",
      " 12  KUCUK_BAS_VEFAT                           12986 non-null  int64         \n",
      " 13  KUMES_HAYVANI_VEFAT                       12986 non-null  int64         \n",
      " 14  EVCIL_HAYVAN_VEFAT                        12986 non-null  int64         \n",
      " 15  DIGER HAYVAN                              12986 non-null  int64         \n",
      " 16  VARIS_SURESI (DAK.)                       12975 non-null  object        \n",
      " 17  KULLANILAN_KOPUK_MIKTARI (KG)             12986 non-null  float64       \n",
      " 18  KULLANILAN_SU_MIKTARI (m³)                12983 non-null  float64       \n",
      " 19  KULLANILAN_KURU_KIMYEVİ_TOZ_MIKTARI (KG)  12986 non-null  float64       \n",
      " 20  EKIPLERİN_CIKIS_SAATI                     12986 non-null  object        \n",
      " 21  ILCE                                      12986 non-null  object        \n",
      " 22  ADRES_BOLGESI                             12986 non-null  object        \n",
      "dtypes: datetime64[ns](1), float64(3), int64(11), object(8)\n",
      "memory usage: 2.3+ MB\n"
     ]
    },
    {
     "data": {
      "text/plain": [
       "YAPI_SEKLI                                  9870\n",
       "VARIS_SURESI (DAK.)                           11\n",
       "KULLANILAN_SU_MIKTARI (m³)                     3\n",
       "TARIH                                          0\n",
       "KUCUK_BAS_VEFAT                                0\n",
       "ILCE                                           0\n",
       "EKIPLERİN_CIKIS_SAATI                          0\n",
       "KULLANILAN_KURU_KIMYEVİ_TOZ_MIKTARI (KG)       0\n",
       "KULLANILAN_KOPUK_MIKTARI (KG)                  0\n",
       "DIGER HAYVAN                                   0\n",
       "EVCIL_HAYVAN_VEFAT                             0\n",
       "KUMES_HAYVANI_VEFAT                            0\n",
       "BUYUK_BAS_VEFAT                                0\n",
       "YANGIN_TURU                                    0\n",
       "ITFAIYECI_YARALI                               0\n",
       "KADIN_YARALI                                   0\n",
       "ERKEK_YARALI                                   0\n",
       "ITFAIYECI_VEFAT                                0\n",
       "KADIN_VEFAT                                    0\n",
       "ERKEK_VEFAT                                    0\n",
       "YANGIN_SONUCU                                  0\n",
       "YANGIN_SEBEBİ                                  0\n",
       "ADRES_BOLGESI                                  0\n",
       "dtype: int64"
      ]
     },
     "execution_count": 5,
     "metadata": {},
     "output_type": "execute_result"
    }
   ],
   "source": [
    "import pandas as pd\n",
    "xls = pd.ExcelFile(\"../data/2023-yili-yangin-mudahale-istatistigi.xlsx\", engine=\"openpyxl\")\n",
    "df = xls.parse(\"Sayfa1\")\n",
    "# To show column names, data types and missing data status of the data frame\n",
    "df_info = df.info()\n",
    "# To list how many missing data in which column\n",
    "missing_values = df.isnull().sum().sort_values(ascending=False)\n",
    "missing_values"
   ]
  },
  {
   "cell_type": "markdown",
   "id": "688353ec-e924-4c4b-9995-fffb11130b49",
   "metadata": {},
   "source": [
    "To assess the quality of the dataset, I uses df.info() to review column data types and verify the completeness of records. I also calculated the number of missing values per column using df.isnull().sum(). \n",
    "The output explains that YAPI_SEKLI has a substantial number of missing entries, while a small number of rows are missing values for VARIS_SURESI (DAK.) and KULLANILAN_SU_MIKTARI (m³). \n",
    "I will use those findings in the feature selection and cleaning steps."
   ]
  },
  {
   "cell_type": "code",
   "execution_count": 7,
   "id": "a2cddcaa-743a-4575-8f84-23b4de3d5544",
   "metadata": {},
   "outputs": [
    {
     "name": "stdout",
     "output_type": "stream",
     "text": [
      "Aylara göre yangın sayısı:\n",
      "AY\n",
      "1      738\n",
      "2      896\n",
      "3      615\n",
      "4      607\n",
      "5      788\n",
      "6     1193\n",
      "7     2334\n",
      "8     1572\n",
      "9     1535\n",
      "10    1240\n",
      "11     861\n",
      "12     607\n",
      "Name: count, dtype: int64\n",
      "\n",
      "\n",
      "İlçelere göre yangın sayısı:\n",
      "ILCE\n",
      "KONAK          1183\n",
      "MENEMEN        1139\n",
      "BORNOVA        1126\n",
      "BUCA           1038\n",
      "KARABAĞLAR      933\n",
      "TORBALI         717\n",
      "BERGAMA         612\n",
      "KARŞIYAKA       464\n",
      "ÖDEMİŞ          460\n",
      "KEMALPAŞA       456\n",
      "ÇİĞLİ           442\n",
      "BAYRAKLI        434\n",
      "ALİAĞA          411\n",
      "MENDERES        378\n",
      "DİKİLİ          354\n",
      "TİRE            331\n",
      "URLA            305\n",
      "BAYINDIR        291\n",
      "ÇEŞME           275\n",
      "FOÇA            233\n",
      "SEFERİHİSAR     221\n",
      "GAZİEMİR        211\n",
      "SELÇUK          209\n",
      "KINIK           207\n",
      "BALÇOVA         142\n",
      "NARLIDERE       107\n",
      "KİRAZ            94\n",
      "GÜZELBAHÇE       91\n",
      "KARABURUN        72\n",
      "BEYDAĞ           44\n",
      "İL DIŞI           6\n",
      "Name: count, dtype: int64\n",
      "\n",
      "\n",
      "Yapı tiplerine göre dağılım:\n",
      "YAPI_SEKLI\n",
      "NaN          9870\n",
      "BETONARME    2494\n",
      "KAGİR         249\n",
      "DİĞER         218\n",
      "ÇELİK          81\n",
      "AHŞAP          71\n",
      "DİĞER-SİL       2\n",
      "ÇELİK-SİL       1\n",
      "Name: count, dtype: int64\n",
      "\n",
      "\n",
      "Müdahale süresi istatistikleri:\n",
      "count    12368.000000\n",
      "mean         5.927717\n",
      "std         13.909151\n",
      "min          0.000000\n",
      "25%          3.000000\n",
      "50%          5.000000\n",
      "75%          6.000000\n",
      "max       1445.000000\n",
      "Name: VARIS_SURESI (DAK.), dtype: float64\n",
      "Kalan gözlem sayısı: 12364\n",
      "Yeni ortalama müdahale süresi: 5.791491426722743\n",
      "Yeni maksimum müdahale süresi: 70.0\n",
      "count    12364.000000\n",
      "mean         5.791491\n",
      "std          4.543911\n",
      "min          1.000000\n",
      "25%          3.000000\n",
      "50%          5.000000\n",
      "75%          6.000000\n",
      "max         70.000000\n",
      "Name: VARIS_SURESI (DAK.), dtype: float64\n"
     ]
    }
   ],
   "source": [
    "df['TARIH'] = pd.to_datetime(df['TARIH'])\n",
    "df['AY'] = df['TARIH'].dt.month\n",
    "df['GUN'] = df['TARIH'].dt.day\n",
    "df['HAFTA'] = df['TARIH'].dt.isocalendar().week\n",
    "\n",
    "# Records by months\n",
    "df['AY'].value_counts().sort_index()\n",
    "print(\"Aylara göre yangın sayısı:\")\n",
    "print(df['AY'].value_counts().sort_index())\n",
    "print(\"\\n\")\n",
    "# Records by districts\n",
    "df['ILCE'].value_counts()\n",
    "print(\"İlçelere göre yangın sayısı:\")\n",
    "print(df['ILCE'].value_counts())\n",
    "print(\"\\n\")\n",
    "# Records by building types\n",
    "df['YAPI_SEKLI'].value_counts(dropna=False)\n",
    "print(\"Yapı tiplerine göre dağılım:\")\n",
    "print(df['YAPI_SEKLI'].value_counts(dropna=False))\n",
    "print(\"\\n\")\n",
    "# Response time statistics\n",
    "df['VARIS_SURESI (DAK.)'] = pd.to_numeric(df['VARIS_SURESI (DAK.)'], errors='coerce')\n",
    "print(\"Müdahale süresi istatistikleri:\")\n",
    "print(df['VARIS_SURESI (DAK.)'].describe())\n",
    "df_clean = df[df['VARIS_SURESI (DAK.)'].notna() & (df['VARIS_SURESI (DAK.)'] > 0)]\n",
    "df_clean = df_clean[df_clean['VARIS_SURESI (DAK.)'] <= 120]\n",
    "print(\"Kalan gözlem sayısı:\", df_clean.shape[0])\n",
    "print(\"Yeni ortalama müdahale süresi:\", df_clean['VARIS_SURESI (DAK.)'].mean())\n",
    "print(\"Yeni maksimum müdahale süresi:\", df_clean['VARIS_SURESI (DAK.)'].max())\n",
    "print(df_clean['VARIS_SURESI (DAK.)'].describe())\n",
    "\n"
   ]
  },
  {
   "cell_type": "markdown",
   "id": "082ac935-ce23-4f87-8c91-52fc9db05e10",
   "metadata": {},
   "source": [
    "Fire incidents peaked during the summer months—July (2334), August (1572), and September (1535)—indicating a strong seasonal pattern. This trend may be influenced by higher temperatures or increased outdoor activity.\n",
    "The districts with the highest number of incidents were Konak, Menemen, and Bornova—central and densely populated areas. Peripheral districts like Beydağ and Karaburun recorded far fewer cases, suggesting a strong correlation with urban density and structural risk.\n",
    "Although the majority of entries (~76%) lack building type data, among the available records, reinforced concrete (BETONARME) structures accounted for most incidents. This implies that modern buildings are not exempt from fire risk, though further imputation may be required.\n",
    "The average response time is approximately 5.9 minutes, with the median at 5 minutes. However, the maximum value of 1445 minutes signals the presence of outliers or data entry errors. Such values should be handled during cleaning to ensure accurate statistical modeling."
   ]
  },
  {
   "cell_type": "code",
   "execution_count": 9,
   "id": "39f0d144-5cee-4b06-a478-86c8cdd66059",
   "metadata": {},
   "outputs": [
    {
     "name": "stdout",
     "output_type": "stream",
     "text": [
      "Chi-square feature scores:\n",
      "{'ILCE': 1453.1881680398947, 'YAPI_SEKLI': 204.77800821479022}\n"
     ]
    }
   ],
   "source": [
    "from sklearn.feature_selection import SelectKBest, chi2\n",
    "from sklearn.preprocessing import LabelEncoder\n",
    "\n",
    "df_fs = df_clean[['ILCE', 'YAPI_SEKLI', 'VARIS_SURESI (DAK.)']].copy()\n",
    "\n",
    "# Filling missing values as \"Unknown\"\n",
    "df_fs['YAPI_SEKLI'] = df_fs['YAPI_SEKLI'].fillna(\"Unknown\")\n",
    "\n",
    "# Converting categorical variables as numerical\n",
    "le = LabelEncoder()\n",
    "df_fs['ILCE'] = le.fit_transform(df_fs['ILCE'])\n",
    "df_fs['YAPI_SEKLI'] = le.fit_transform(df_fs['YAPI_SEKLI'])\n",
    "\n",
    "# Discretization\n",
    "df_fs['VARIS_SURESI_BIN'] = pd.qcut(df_fs['VARIS_SURESI (DAK.)'], q=4, labels=False)\n",
    "\n",
    "X = df_fs[['ILCE', 'YAPI_SEKLI']]\n",
    "y = df_fs['VARIS_SURESI_BIN']\n",
    "\n",
    "# Chi2 test\n",
    "selector = SelectKBest(score_func=chi2, k='all')\n",
    "selector.fit(X, y)\n",
    "\n",
    "feature_scores = dict(zip(X.columns, selector.scores_))\n",
    "print(\"Chi-square feature scores:\")\n",
    "print(feature_scores)\n"
   ]
  },
  {
   "cell_type": "markdown",
   "id": "e1840cc8-374b-4b74-8d86-f85757a6a9de",
   "metadata": {},
   "source": [
    "The results showed a much higher chi-square score for ILCE (1453.18) compared to YAPI_SEKLI (204.77), suggesting that geographic district has a stronger explanatory power over emergency response variation than building structure type. This supports our hypothesis on spatial inequality in urban emergency services."
   ]
  },
  {
   "cell_type": "code",
   "execution_count": 11,
   "id": "30b0b552-c1ee-4f30-b582-516bc3946695",
   "metadata": {},
   "outputs": [
    {
     "name": "stdout",
     "output_type": "stream",
     "text": [
      "İlçelere göre ortalama müdahale süresi:\n",
      "ILCE\n",
      "İL DIŞI        27.600000\n",
      "KİRAZ          12.988889\n",
      "BEYDAĞ         10.690476\n",
      "KARABURUN       9.859155\n",
      "BAYINDIR        9.849123\n",
      "URLA            8.363322\n",
      "TİRE            8.092357\n",
      "KEMALPAŞA       8.000000\n",
      "ÖDEMİŞ          7.970852\n",
      "SEFERİHİSAR     7.241706\n",
      "MENDERES        7.156863\n",
      "BERGAMA         7.156197\n",
      "DİKİLİ          7.110465\n",
      "TORBALI         7.047688\n",
      "MENEMEN         6.365297\n",
      "ALİAĞA          6.290076\n",
      "SELÇUK          6.073529\n",
      "ÇEŞME           6.019305\n",
      "FOÇA            5.471366\n",
      "KINIK           5.223881\n",
      "ÇİĞLİ           5.146572\n",
      "GAZİEMİR        5.065990\n",
      "KARŞIYAKA       4.792711\n",
      "GÜZELBAHÇE      4.764045\n",
      "BAYRAKLI        4.456098\n",
      "BUCA            4.400207\n",
      "BORNOVA         4.293569\n",
      "BALÇOVA         3.859259\n",
      "NARLIDERE       3.689320\n",
      "KARABAĞLAR      3.529143\n",
      "KONAK           3.464738\n",
      "Name: VARIS_SURESI (DAK.), dtype: float64\n"
     ]
    },
    {
     "data": {
      "image/png": "[encoded data removed]",
      "text/plain": [
       "<Figure size 1000x800 with 1 Axes>"
      ]
     },
     "metadata": {},
     "output_type": "display_data"
    }
   ],
   "source": [
    "# Average response time by district\n",
    "ilce_avg_response = df_clean.groupby('ILCE')['VARIS_SURESI (DAK.)'].mean().sort_values(ascending=False)\n",
    "\n",
    "print(\"İlçelere göre ortalama müdahale süresi:\")\n",
    "print(ilce_avg_response)\n",
    "\n",
    "# To visualize\n",
    "import matplotlib.pyplot as plt\n",
    "ilce_avg_response = df_clean.groupby('ILCE')['VARIS_SURESI (DAK.)'].mean().sort_values(ascending=True)\n",
    "\n",
    "plt.figure(figsize=(10, 8))\n",
    "ilce_avg_response.plot(kind='barh', color='skyblue', edgecolor='black')\n",
    "plt.xlabel('Average Response Time (minutes)')\n",
    "plt.ylabel('District (ILCE)')\n",
    "plt.title('Average Fire Response Time per District (2023)')\n",
    "plt.tight_layout()\n",
    "plt.grid(axis='x', linestyle='--', alpha=0.6)\n",
    "plt.show()\n"
   ]
  },
  {
   "cell_type": "markdown",
   "id": "b0cfb12d-6f5f-476d-8aa5-df7b7b057baf",
   "metadata": {},
   "source": [
    "A horizontal bar chart was generated to visualize the average response time across different districts. This allows for an intuitive comparison of emergency service performance throughout the city. The variation supports our hypothesis on spatial disparities in fire response efficiency."
   ]
  },
  {
   "cell_type": "code",
   "execution_count": 13,
   "id": "f369af86-7867-476a-a2dc-97c8013f0d43",
   "metadata": {},
   "outputs": [
    {
     "name": "stdout",
     "output_type": "stream",
     "text": [
      "   VARIS_SURESI (DAK.)  VARIS_SURESI_NORM\n",
      "0                  4.0           0.043478\n",
      "1                  3.0           0.028986\n",
      "2                  2.0           0.014493\n",
      "3                  4.0           0.043478\n",
      "4                  6.0           0.072464\n"
     ]
    }
   ],
   "source": [
    "from sklearn.preprocessing import MinMaxScaler\n",
    "\n",
    "scaler = MinMaxScaler()\n",
    "df_clean['VARIS_SURESI_NORM'] = scaler.fit_transform(df_clean[['VARIS_SURESI (DAK.)']])\n",
    "\n",
    "print(df_clean[['VARIS_SURESI (DAK.)', 'VARIS_SURESI_NORM']].head())\n"
   ]
  },
  {
   "cell_type": "markdown",
   "id": "261d7ea7-2cb0-4cfc-a33b-8a324f030105",
   "metadata": {},
   "source": [
    "FOR QUESTION 2: Can we build a predictive model using machine learning techniques to forecast the daily or weekly number of fire incidents in Izmir based on spatial, temporal, and urban characteristics?"
   ]
  },
  {
   "cell_type": "code",
   "execution_count": 15,
   "id": "e31d15c5-6fb1-473e-840d-ddf50d254868",
   "metadata": {},
   "outputs": [
    {
     "name": "stdout",
     "output_type": "stream",
     "text": [
      "       TARIH  fire_count\n",
      "0 2023-01-01          39\n",
      "1 2023-01-02          29\n",
      "2 2023-01-03          22\n",
      "3 2023-01-04          36\n",
      "4 2023-01-05          31\n"
     ]
    }
   ],
   "source": [
    "# Ensuring the TARIH column is in datetime format\n",
    "df['TARIH'] = pd.to_datetime(df['TARIH'])\n",
    "\n",
    "# Grouping by date and count the number of fire incidents per day\n",
    "daily_counts = df.groupby('TARIH').size().reset_index(name='fire_count')\n",
    "\n",
    "print(daily_counts.head())\n"
   ]
  },
  {
   "cell_type": "code",
   "execution_count": 17,
   "id": "f6aef3e7-6f6d-4979-b7ae-efe6bafb225d",
   "metadata": {},
   "outputs": [
    {
     "name": "stdout",
     "output_type": "stream",
     "text": [
      "Index(['TARIH', 'fire_count', 'top_building_type', 'top_building_fire_count'], dtype='object')\n"
     ]
    }
   ],
   "source": [
    "# Finding most common building type for each day then merging\n",
    "\n",
    "# Counting number of fire incidents per date and building type\n",
    "yapi_daily = df.groupby(['TARIH', 'YAPI_SEKLI']).size().reset_index(name='count')\n",
    "\n",
    "# For each day, getting the most frequent building type\n",
    "top_yapi_per_day = yapi_daily.loc[yapi_daily.groupby('TARIH')['count'].idxmax()].reset_index(drop=True)\n",
    "\n",
    "top_yapi_per_day = top_yapi_per_day.rename(columns={\n",
    "    'YAPI_SEKLI': 'top_building_type',\n",
    "    'count': 'top_building_fire_count'\n",
    "})\n",
    "\n",
    "# Merging with daily_counts\n",
    "daily_counts = daily_counts.merge(\n",
    "    top_yapi_per_day[['TARIH', 'top_building_type', 'top_building_fire_count']],\n",
    "    on='TARIH',\n",
    "    how='left'\n",
    ")\n",
    "\n",
    "# Check\n",
    "print(daily_counts.columns)\n"
   ]
  },
  {
   "cell_type": "code",
   "execution_count": 19,
   "id": "134078a1-c16f-482e-8ec0-94d1138926c7",
   "metadata": {},
   "outputs": [
    {
     "name": "stdout",
     "output_type": "stream",
     "text": [
      "       TARIH  dayofweek  month  is_weekend\n",
      "0 2023-01-01          6      1           1\n",
      "1 2023-01-02          0      1           0\n",
      "2 2023-01-03          1      1           0\n",
      "3 2023-01-04          2      1           0\n",
      "4 2023-01-05          3      1           0\n"
     ]
    }
   ],
   "source": [
    "# Creating temporal features from TARIH\n",
    "daily_counts['TARIH'] = pd.to_datetime(daily_counts['TARIH'])\n",
    "daily_counts['dayofweek'] = daily_counts['TARIH'].dt.dayofweek\n",
    "daily_counts['month'] = daily_counts['TARIH'].dt.month\n",
    "daily_counts['week'] = daily_counts['TARIH'].dt.isocalendar().week\n",
    "daily_counts['is_weekend'] = daily_counts['dayofweek'].apply(lambda x: 1 if x >= 5 else 0)\n",
    "\n",
    "print(daily_counts[['TARIH', 'dayofweek', 'month', 'is_weekend']].head())\n"
   ]
  },
  {
   "cell_type": "code",
   "execution_count": 21,
   "id": "94cacc1d-0fd2-46cb-b090-4de6abe53c43",
   "metadata": {},
   "outputs": [
    {
     "name": "stdout",
     "output_type": "stream",
     "text": [
      "Index(['TARIH', 'fire_count', 'top_building_type', 'top_building_fire_count',\n",
      "       'dayofweek', 'month', 'week', 'is_weekend', 'top_ilce',\n",
      "       'top_ilce_fire_count'],\n",
      "      dtype='object')\n"
     ]
    }
   ],
   "source": [
    "# Counting number of fire incidents per date and district\n",
    "ilce_daily = df.groupby(['TARIH', 'ILCE']).size().reset_index(name='count')\n",
    "\n",
    "# For each day, finding the district with the highest number of fires\n",
    "top_ilce_per_day = ilce_daily.loc[ilce_daily.groupby('TARIH')['count'].idxmax()].reset_index(drop=True)\n",
    "\n",
    "# Renaming columns for clarity\n",
    "top_ilce_per_day = top_ilce_per_day.rename(columns={\n",
    "    'ILCE': 'top_ilce',\n",
    "    'count': 'top_ilce_fire_count'\n",
    "})\n",
    "\n",
    "# Merging with daily_counts\n",
    "daily_counts = daily_counts.merge(\n",
    "    top_ilce_per_day[['TARIH', 'top_ilce', 'top_ilce_fire_count']],\n",
    "    on='TARIH',\n",
    "    how='left'\n",
    ")\n",
    "\n",
    "# Check\n",
    "print(daily_counts.columns)\n"
   ]
  },
  {
   "cell_type": "code",
   "execution_count": 23,
   "id": "e050267f-533d-40d5-b096-37060c247ab8",
   "metadata": {},
   "outputs": [
    {
     "name": "stdout",
     "output_type": "stream",
     "text": [
      "Model Evaluation:\n",
      "RMSE: 9.48\n",
      "MAE : 6.44\n",
      "R²  : 0.741\n"
     ]
    }
   ],
   "source": [
    "from sklearn.ensemble import RandomForestRegressor\n",
    "from sklearn.metrics import mean_squared_error, r2_score, mean_absolute_error\n",
    "import numpy as np\n",
    "\n",
    "model_features = [\n",
    "    'dayofweek', 'month', 'is_weekend',\n",
    "    'top_ilce', 'top_ilce_fire_count',\n",
    "    'top_building_type', 'top_building_fire_count'\n",
    "]\n",
    "target = 'fire_count'\n",
    "\n",
    "# Dropping missing values\n",
    "ml_df = daily_counts[model_features + [target]].dropna().copy()\n",
    "\n",
    "# Labelling encode categorical columns\n",
    "from sklearn.preprocessing import LabelEncoder\n",
    "le_ilce = LabelEncoder()\n",
    "le_yapi = LabelEncoder()\n",
    "\n",
    "ml_df['top_ilce'] = le_ilce.fit_transform(ml_df['top_ilce'])\n",
    "ml_df['top_building_type'] = le_yapi.fit_transform(ml_df['top_building_type'])\n",
    "\n",
    "# Defining X and y\n",
    "X = ml_df[model_features]\n",
    "y = ml_df[target]\n",
    "\n",
    "# Train-test split\n",
    "from sklearn.model_selection import train_test_split\n",
    "X_train, X_test, y_train, y_test = train_test_split(X, y, test_size=0.2, random_state=42)\n",
    "\n",
    "# Trainning model\n",
    "model = RandomForestRegressor(n_estimators=100, random_state=42)\n",
    "model.fit(X_train, y_train)\n",
    "\n",
    "# Predicting and evaluating\n",
    "y_pred = model.predict(X_test)\n",
    "rmse = np.sqrt(mean_squared_error(y_test, y_pred))\n",
    "mae = mean_absolute_error(y_test, y_pred)\n",
    "r2 = r2_score(y_test, y_pred)\n",
    "\n",
    "print(\"Model Evaluation:\")\n",
    "print(f\"RMSE: {rmse:.2f}\")\n",
    "print(f\"MAE : {mae:.2f}\")\n",
    "print(f\"R²  : {r2:.3f}\")\n"
   ]
  },
  {
   "cell_type": "markdown",
   "id": "c19d5e63-f5f4-49b8-8fcb-fc222c910776",
   "metadata": {},
   "source": [
    "A Random Forest regression model was trained to predict the daily number of fire incidents in İzmir based on temporal, spatial, and structural features. After preprocessing and encoding categorical variables, the model achieved a root mean squared error (RMSE) of 9.48, a mean absolute error (MAE) of 6.44, and a coefficient of determination (R²) of 0.741 on the test set. These results indicate that the model is able to explain approximately 74% of the variance in daily fire counts, suggesting strong predictive capability. Key features contributing to the model included temporal patterns (day of week, month), the most affected district and structure type on each day, and whether the incident occurred on a weekend."
   ]
  },
  {
   "cell_type": "code",
   "execution_count": 25,
   "id": "96c03f4f-c242-4d18-81fc-37dd0f4e883d",
   "metadata": {},
   "outputs": [
    {
     "name": "stdout",
     "output_type": "stream",
     "text": [
      "Predicted total fires in İzmir on that day: 13\n"
     ]
    }
   ],
   "source": [
    "# Sample Output for Bornova\n",
    "\n",
    "ilce_val = 'BORNOVA'\n",
    "building_val = 'BETONARME'\n",
    "\n",
    "# Encoding\n",
    "encoded_ilce = le_ilce.transform([ilce_val])[0]\n",
    "encoded_yapi = le_yapi.transform([building_val])[0]\n",
    "\n",
    "# Creating input with exact same column order and names as in training\n",
    "sample_input = pd.DataFrame([{\n",
    "    'dayofweek': 2,\n",
    "    'month': 7,\n",
    "    'is_weekend': 0,\n",
    "    'top_ilce': encoded_ilce,\n",
    "    'top_ilce_fire_count': 1,\n",
    "    'top_building_type': encoded_yapi,\n",
    "    'top_building_fire_count': 2\n",
    "}], columns=X.columns)\n",
    "\n",
    "# Predict\n",
    "predicted = model.predict(sample_input)[0]\n",
    "print(f\"Predicted total fires in İzmir on that day: {predicted:.0f}\")\n"
   ]
  },
  {
   "cell_type": "markdown",
   "id": "5fb61540-d5c2-46f3-ae5f-60b2d6a87696",
   "metadata": {},
   "source": [
    "To illustrate how the trained model responds to hypothetical scenarios, a sample prediction was generated using an input where the most affected district was Bornova (with 1 incident) and the most affected building type was Betonarme (with 2 incidents), on a Tuesday in July (dayofweek = 2, month = 7, is_weekend = 0). The model predicted a total of approximately 13 fire incidents in İzmir on that day. Although the input specifies relatively low counts, the model output reflects patterns learned from historical data—such as higher fire activity associated with Bornova or Betonarme structures on similar days—rather than reacting directly to the raw values. This highlights the model’s nature as a pattern-based predictor: it infers risk levels based on feature combinations that historically correlate with elevated fire counts, rather than assuming a linear relationship with the input magnitudes. Additionally, the prediction is limited to previously seen categories in the training set, meaning that districts or structure types not observed as top categories during training would not be recognized by the model."
   ]
  },
  {
   "cell_type": "markdown",
   "id": "7e7be2cb-9420-4963-b9e8-34c38728a460",
   "metadata": {},
   "source": [
    "DELIVERABLE 2"
   ]
  },
  {
   "cell_type": "markdown",
   "id": "754fdbd8-ecfb-45bd-9023-3b484efb6c6c",
   "metadata": {},
   "source": [
    "STEP 4"
   ]
  },
  {
   "cell_type": "markdown",
   "id": "9dfdeb92-d3e4-4c08-82c7-49f9cecafae0",
   "metadata": {},
   "source": [
    "FOR QUESTION 1: What are the temporal and spatial patterns of fire incidents in Izmir in 2023, and how do socioeconomic indicators (e.g., neighborhood income levels, building types) influence fire incident rates?"
   ]
  },
  {
   "cell_type": "markdown",
   "id": "a7797b09-26c7-4d8b-a64b-72a4306d7fb7",
   "metadata": {},
   "source": [
    "To investigate whether fire response times differed significantly across İzmir’s districts, an appropriate statistical test needed to be selected. Initial exploratory analysis and normality checks were conducted using the Shapiro-Wilk and Levene’s tests, both of which revealed that the data violated the assumptions of normality and homoscedasticity. As a result, ANOVA was deemed unsuitable. Through a review of academic resources and statistical guidelines, the Kruskal-Wallis H test was identified as the most appropriate non-parametric alternative for comparing multiple independent groups. This test was selected because it does not require normal distribution and can accommodate unequal variances, making it well-suited to the characteristics of the response time data observed in this study."
   ]
  },
  {
   "cell_type": "code",
   "execution_count": 27,
   "id": "7427c865-0c81-4806-b410-68456df121f6",
   "metadata": {},
   "outputs": [
    {
     "name": "stdout",
     "output_type": "stream",
     "text": [
      "ALİAĞA - Shapiro-Wilk p-value: 0.0000\n",
      "BALÇOVA - Shapiro-Wilk p-value: 0.0000\n",
      "BAYINDIR - Shapiro-Wilk p-value: 0.0000\n",
      "BAYRAKLI - Shapiro-Wilk p-value: 0.0000\n",
      "BERGAMA - Shapiro-Wilk p-value: 0.0000\n",
      "BEYDAĞ - Shapiro-Wilk p-value: 0.0000\n",
      "BORNOVA - Shapiro-Wilk p-value: 0.0000\n",
      "BUCA - Shapiro-Wilk p-value: 0.0000\n",
      "DİKİLİ - Shapiro-Wilk p-value: 0.0000\n",
      "FOÇA - Shapiro-Wilk p-value: 0.0000\n",
      "GAZİEMİR - Shapiro-Wilk p-value: 0.0000\n",
      "GÜZELBAHÇE - Shapiro-Wilk p-value: 0.0000\n",
      "KARABAĞLAR - Shapiro-Wilk p-value: 0.0000\n",
      "KARABURUN - Shapiro-Wilk p-value: 0.0000\n",
      "KARŞIYAKA - Shapiro-Wilk p-value: 0.0000\n",
      "KEMALPAŞA - Shapiro-Wilk p-value: 0.0000\n",
      "KINIK - Shapiro-Wilk p-value: 0.0000\n",
      "KONAK - Shapiro-Wilk p-value: 0.0000\n",
      "KİRAZ - Shapiro-Wilk p-value: 0.0000\n",
      "MENDERES - Shapiro-Wilk p-value: 0.0000\n",
      "MENEMEN - Shapiro-Wilk p-value: 0.0000\n",
      "NARLIDERE - Shapiro-Wilk p-value: 0.0000\n",
      "SEFERİHİSAR - Shapiro-Wilk p-value: 0.0000\n",
      "SELÇUK - Shapiro-Wilk p-value: 0.0000\n",
      "TORBALI - Shapiro-Wilk p-value: 0.0000\n",
      "TİRE - Shapiro-Wilk p-value: 0.0000\n",
      "URLA - Shapiro-Wilk p-value: 0.0000\n",
      "ÇEŞME - Shapiro-Wilk p-value: 0.0000\n",
      "ÇİĞLİ - Shapiro-Wilk p-value: 0.0000\n",
      "ÖDEMİŞ - Shapiro-Wilk p-value: 0.0000\n",
      "İL DIŞI - Shapiro-Wilk p-value: 0.7974\n"
     ]
    }
   ],
   "source": [
    "import scipy.stats as stats\n",
    "import seaborn as sns\n",
    "\n",
    "# Average response time\n",
    "grouped_data = [group[\"VARIS_SURESI (DAK.)\"].values for name, group in df_clean.groupby(\"ILCE\")]\n",
    "\n",
    "# Shapiro-Wilk test\n",
    "for i, (name, group) in enumerate(df_clean.groupby(\"ILCE\")):\n",
    "    if len(group) >= 3:\n",
    "        stat, p = stats.shapiro(group[\"VARIS_SURESI (DAK.)\"])\n",
    "        print(f\"{name} - Shapiro-Wilk p-value: {p:.4f}\")\n"
   ]
  },
  {
   "cell_type": "markdown",
   "id": "34ff8738-11a6-497b-b6ec-369f8a915807",
   "metadata": {},
   "source": [
    "Shapiro-Wilk Test for Normality:\n",
    "To determine whether the response time data in each district followed a normal distribution, I applied the Shapiro-Wilk test. The p-values for nearly all districts were less than 0.05, indicating that the null hypothesis of normality can be rejected for each group. This suggests that the distribution of fire response times is significantly non-normal across the districts in İzmir. Only one group (\"İL DIŞI\") showed a p-value above the threshold, but this category was not central to our analysis."
   ]
  },
  {
   "cell_type": "code",
   "execution_count": 29,
   "id": "8c884d54-9344-4b19-8e15-560ac3af25ce",
   "metadata": {},
   "outputs": [
    {
     "name": "stdout",
     "output_type": "stream",
     "text": [
      "\n",
      "Levene's test for equal variances: p = 0.0000\n"
     ]
    }
   ],
   "source": [
    "# Levene test\n",
    "stat, p = stats.levene(*grouped_data)\n",
    "print(f\"\\nLevene's test for equal variances: p = {p:.4f}\")"
   ]
  },
  {
   "cell_type": "markdown",
   "id": "8b17bb82-3365-4076-8746-f12f347b8e08",
   "metadata": {},
   "source": [
    "I used Levene’s test to evaluate whether the variance in response times was similar across all districts. The resulting p-value was also less than 0.05, which leads us to reject the assumption of equal variances. This result implies that the variability in fire response times differs significantly between districts, possibly due to differences in urban infrastructure, geography, or resource distribution."
   ]
  },
  {
   "cell_type": "code",
   "execution_count": 61,
   "id": "eec1b0cc-02a0-41b2-b88f-09532af53330",
   "metadata": {},
   "outputs": [
    {
     "name": "stdout",
     "output_type": "stream",
     "text": [
      "Kruskal-Wallis H Test Result:\n",
      "Test statistic: 2764.4990\n",
      "p-value: 0.0000\n",
      "Conclusion: There is a significant difference in response times between at least two districts (reject H₀).\n"
     ]
    }
   ],
   "source": [
    "# Kruskal-Wallis H test\n",
    "stat, p = stats.kruskal(*grouped_data)\n",
    "\n",
    "kruskal_result = {\n",
    "    \"Test Statistic\": round(stat, 4),\n",
    "    \"p-value\": round(p, 4)\n",
    "}\n",
    "\n",
    "print(\"Kruskal-Wallis H Test Result:\")\n",
    "print(f\"Test statistic: {stat:.4f}\")\n",
    "print(f\"p-value: {p:.4f}\")\n",
    "\n",
    "if p < 0.05:\n",
    "    print(\"Conclusion: There is a significant difference in response times between at least two districts (reject H₀).\")\n",
    "else:\n",
    "    print(\"Conclusion: No significant difference in response times across districts (fail to reject H₀).\")\n"
   ]
  },
  {
   "cell_type": "markdown",
   "id": "dbc2c5e8-1745-470b-84f2-4c81ff793fbf",
   "metadata": {},
   "source": [
    "Given the violations of both normality and equal variances, I opted for a non-parametric Kruskal-Wallis H test to examine whether there are statistically significant differences in median response times among the districts. The test returned a highly significant result (p < 0.0001), confirming that at least one district's fire response time distribution differs significantly from the others."
   ]
  },
  {
   "cell_type": "markdown",
   "id": "cf7cb7b7-fd66-41e5-bb31-faf77b3fb26f",
   "metadata": {},
   "source": [
    "In conclusion, the statistical tests demonstrate that the assumption of normality and homoscedasticity does not hold in this dataset. Therefore, Kruskal-Wallis was the appropriate choice for hypothesis testing. The test results provide strong evidence that there are significant disparities in fire response times across İzmir’s districts, aligning with the broader research objective of detecting spatial inequalities in urban emergency services."
   ]
  },
  {
   "cell_type": "markdown",
   "id": "31615bef-57ea-4c65-b076-c5214527b1f4",
   "metadata": {},
   "source": [
    "FOR QUESTION 2: Can we build a predictive model using machine learning techniques to forecast the daily or weekly number of fire incidents in Izmir based on spatial, temporal, and urban characteristics?"
   ]
  },
  {
   "cell_type": "markdown",
   "id": "fee9549d-86f5-4354-b7ee-27f4473321f0",
   "metadata": {},
   "source": [
    "In order to predict the daily number of fire incidents based on temporal and urban features, several machine learning models were considered. Through independent research and examination of recent studies in urban risk forecasting, Random Forest regression was identified as a widely used and reliable algorithm for handling tabular data with mixed feature types. Its ability to capture non-linear relationships and perform well with limited preprocessing made it a strong candidate for this task. Furthermore, its interpretability through feature importance metrics aligned well with the project's goal of understanding which variables contribute most to fire occurrence. For these reasons, Random Forest was selected and further optimized using cross-validated hyperparameter tuning."
   ]
  },
  {
   "cell_type": "code",
   "execution_count": 33,
   "id": "f3f07191-e02f-4efd-82fb-405c738537d9",
   "metadata": {},
   "outputs": [
    {
     "name": "stdout",
     "output_type": "stream",
     "text": [
      "\n",
      "Dummy Regressor Results:\n",
      "R² Score: -0.009\n",
      "MAE: 15.49\n",
      "RMSE: 18.71\n",
      "\n",
      "Linear Regression Results:\n",
      "R² Score: 0.609\n",
      "MAE: 8.09\n",
      "RMSE: 11.65\n",
      "\n",
      "Random Forest (Default) Results:\n",
      "R² Score: 0.741\n",
      "MAE: 6.44\n",
      "RMSE: 9.48\n"
     ]
    }
   ],
   "source": [
    "from sklearn.dummy import DummyRegressor\n",
    "from sklearn.linear_model import LinearRegression\n",
    "from sklearn.ensemble import RandomForestRegressor\n",
    "from sklearn.model_selection import train_test_split\n",
    "from sklearn.metrics import mean_squared_error, mean_absolute_error, r2_score\n",
    "\n",
    "# Using already prepared ml_df\n",
    "X = ml_df[model_features]\n",
    "y = ml_df[target]\n",
    "\n",
    "# Splitting data\n",
    "X_train, X_test, y_train, y_test = train_test_split(X, y, test_size=0.2, random_state=42)\n",
    "\n",
    "# Defining models\n",
    "models = {\n",
    "    \"Dummy Regressor\": DummyRegressor(strategy=\"mean\"),\n",
    "    \"Linear Regression\": LinearRegression(),\n",
    "    \"Random Forest (Default)\": RandomForestRegressor(random_state=42)\n",
    "}\n",
    "\n",
    "# Training and evaluating each\n",
    "from sklearn.metrics import mean_absolute_error, r2_score, root_mean_squared_error  # DİKKAT: yeni fonksiyon eklendi\n",
    "\n",
    "for name, model in models.items():\n",
    "    model.fit(X_train, y_train)\n",
    "    y_pred = model.predict(X_test)\n",
    "    print(f\"\\n{name} Results:\")\n",
    "    print(f\"R² Score: {r2_score(y_test, y_pred):.3f}\")\n",
    "    print(f\"MAE: {mean_absolute_error(y_test, y_pred):.2f}\")\n",
    "    print(f\"RMSE: {root_mean_squared_error(y_test, y_pred):.2f}\")  # Artık warning çıkmaz\n",
    "\n"
   ]
  },
  {
   "cell_type": "markdown",
   "id": "2616a733-5533-4f78-bfac-311f891cdd32",
   "metadata": {},
   "source": [
    "A performance comparison was conducted among three regression models: Dummy Regressor, Linear Regression, and Random Forest. The Dummy Regressor, serving as a naïve baseline, yielded a negative R² score and the highest error metrics, indicating that it failed to capture any underlying patterns in the data. The Linear Regression model provided moderate predictive capability with an R² score of 0.609. In contrast, the Random Forest model outperformed the others with an R² of 0.741, a mean absolute error (MAE) of 6.44, and a root mean squared error (RMSE) of 9.48. These results suggest that more complex, non-linear relationships among temporal and spatial features were effectively captured by the Random Forest algorithm."
   ]
  },
  {
   "cell_type": "markdown",
   "id": "6132ab2d-a952-4e7e-96b4-769a706c7924",
   "metadata": {},
   "source": [
    "In Step 4, both a statistical hypothesis test and a machine learning model were applied to address the two research questions. The Kruskal-Wallis H test revealed statistically significant differences in fire response times across districts, indicating the presence of spatial disparities in emergency services. In parallel, a Random Forest regression model was developed to forecast daily fire incident counts using temporal, spatial, and structural features. The model demonstrated high predictive performance, confirming that patterns in the data could be effectively learned and generalized. Together, the findings from both approaches provided complementary insights into the operational dynamics and inequality patterns of urban fire incidents."
   ]
  },
  {
   "cell_type": "markdown",
   "id": "5e023fbe-cc23-4625-b82f-68dc400206eb",
   "metadata": {},
   "source": [
    "STEP 5"
   ]
  },
  {
   "cell_type": "code",
   "execution_count": 35,
   "id": "de265da1-ad4e-4513-9407-181e7aef54fc",
   "metadata": {},
   "outputs": [
    {
     "name": "stdout",
     "output_type": "stream",
     "text": [
      "Fitting 5 folds for each of 48 candidates, totalling 240 fits\n",
      "Best R² Score: 0.778\n",
      "Best Parameters: {'max_depth': None, 'max_features': 'sqrt', 'min_samples_leaf': 1, 'min_samples_split': 2, 'n_estimators': 200}\n"
     ]
    }
   ],
   "source": [
    "from sklearn.model_selection import GridSearchCV\n",
    "\n",
    "# Defining parameter grid\n",
    "param_grid = {\n",
    "    'n_estimators': [100, 200],\n",
    "    'max_depth': [None, 10, 20],\n",
    "    'min_samples_split': [2, 5],\n",
    "    'min_samples_leaf': [1, 2],\n",
    "    'max_features': ['sqrt', 'log2']\n",
    "}\n",
    "\n",
    "# Grid Search\n",
    "grid_search = GridSearchCV(\n",
    "    estimator=RandomForestRegressor(random_state=42),\n",
    "    param_grid=param_grid,\n",
    "    cv=5,\n",
    "    scoring='r2',\n",
    "    n_jobs=-1,\n",
    "    verbose=2\n",
    ")\n",
    "\n",
    "grid_search.fit(X_train, y_train)\n",
    "\n",
    "# Best model and score\n",
    "print(f\"Best R² Score: {grid_search.best_score_:.3f}\")\n",
    "print(f\"Best Parameters: {grid_search.best_params_}\")\n"
   ]
  },
  {
   "cell_type": "markdown",
   "id": "ad14f252-e12b-4633-81eb-f192aca4a565",
   "metadata": {},
   "source": [
    "To improve the generalization performance of the regression model, hyperparameter tuning was performed using GridSearchCV. A total of 48 parameter combinations were evaluated through five-fold cross-validation, resulting in 240 individual model fits. The parameter grid included options for tree depth, feature subset size, minimum samples for splits and leaves, and the number of estimators. The best parameter set, which maximized the average R² score across folds, was identified as using 200 estimators, no maximum depth restriction, 'sqrt' feature selection, and default split conditions. This configuration achieved a cross-validated R² score of 0.778, indicating substantial improvement over the default setup."
   ]
  },
  {
   "cell_type": "code",
   "execution_count": 36,
   "id": "6fbb8072-0d77-4b5a-9a9d-4b9989613dc9",
   "metadata": {},
   "outputs": [
    {
     "name": "stdout",
     "output_type": "stream",
     "text": [
      "Final Tuned Model Evaluation:\n",
      "R² Score: 0.759\n",
      "MAE: 6.51\n",
      "RMSE: 9.14\n"
     ]
    }
   ],
   "source": [
    "# Using the best parameters to retrain model\n",
    "best_rf = RandomForestRegressor(\n",
    "    max_depth=None,\n",
    "    max_features='sqrt',\n",
    "    min_samples_leaf=1,\n",
    "    min_samples_split=2,\n",
    "    n_estimators=200,\n",
    "    random_state=42\n",
    ")\n",
    "\n",
    "best_rf.fit(X_train, y_train)\n",
    "y_pred_best = best_rf.predict(X_test)\n",
    "\n",
    "# Evaluation\n",
    "from sklearn.metrics import mean_absolute_error, r2_score, root_mean_squared_error\n",
    "\n",
    "print(\"Final Tuned Model Evaluation:\")\n",
    "print(f\"R² Score: {r2_score(y_test, y_pred_best):.3f}\")\n",
    "print(f\"MAE: {mean_absolute_error(y_test, y_pred_best):.2f}\")\n",
    "print(f\"RMSE: {root_mean_squared_error(y_test, y_pred_best):.2f}\")\n"
   ]
  },
  {
   "cell_type": "markdown",
   "id": "cb07df7a-5f49-4bfa-ad94-89639b23dcfb",
   "metadata": {},
   "source": [
    "Using the best hyperparameter configuration, the Random Forest model was retrained on the training set and subsequently evaluated on the test data. The tuned model yielded an R² score of 0.759, along with a mean absolute error (MAE) of 6.51 and a root mean squared error (RMSE) of 9.14. These metrics confirmed that the optimized model was able to explain approximately 76% of the variance in the daily fire incident counts. Compared to baseline models such as Dummy Regressor and Linear Regression, the fine-tuned Random Forest demonstrated superior performance in both predictive accuracy and error reduction (R² increased, RMSE decreased). "
   ]
  },
  {
   "cell_type": "code",
   "execution_count": 37,
   "id": "415a315c-f2c3-4ca6-8d3f-745b773b9538",
   "metadata": {},
   "outputs": [
    {
     "data": {
      "image/png": "[encoded data removed]",
      "text/plain": [
       "<Figure size 800x600 with 1 Axes>"
      ]
     },
     "metadata": {},
     "output_type": "display_data"
    }
   ],
   "source": [
    "import matplotlib.pyplot as plt\n",
    "import seaborn as sns\n",
    "\n",
    "# Get feature importances\n",
    "importances = best_rf.feature_importances_\n",
    "feature_names = X.columns\n",
    "\n",
    "# Create DataFrame for visualization\n",
    "feat_imp_df = pd.DataFrame({\n",
    "    'Feature': feature_names,\n",
    "    'Importance': importances\n",
    "}).sort_values(by='Importance', ascending=False)\n",
    "\n",
    "# Plot\n",
    "plt.figure(figsize=(8, 6))\n",
    "sns.barplot(data=feat_imp_df, y='Feature', x='Importance', color='b')\n",
    "plt.title('Feature Importances (Random Forest)')\n",
    "plt.tight_layout()\n",
    "plt.show()\n"
   ]
  },
  {
   "cell_type": "markdown",
   "id": "4fff04c7-1a41-45bc-b2b8-c4d26261f9ae",
   "metadata": {},
   "source": [
    "To interpret the contribution of each feature to the model’s predictions, feature importance scores were extracted from the trained Random Forest. These scores revealed that the most influential variable was the daily fire count in the top-affected district (top_ilce_fire_count), followed by the month of occurrence and the daily frequency of the most common building type. In contrast, temporal indicators such as day of the week and weekend status exhibited minimal influence. This visualization highlighted that spatial and structural features played a more decisive role in fire count prediction than simple calendar-based attributes."
   ]
  },
  {
   "cell_type": "markdown",
   "id": "dd8af787-c96e-4312-ac56-aa7fcd0d2c26",
   "metadata": {},
   "source": [
    "In Step 5, the predictive performance of the Random Forest model was enhanced through hyperparameter tuning. A systematic grid search with five-fold cross-validation was performed to identify the optimal parameter configuration. The best model, retrained with these parameters, achieved improved generalization on unseen test data, reflected in its R², MAE, and RMSE metrics. Feature importance analysis further clarified the impact of spatial and structural variables in predicting fire activity. The tuning process and interpretability techniques ensured that the model was both accurate and transparent, making it suitable for practical decision-making in emergency planning."
   ]
  },
  {
   "cell_type": "markdown",
   "id": "fbe19593-4555-4e4d-b8db-591edfb35530",
   "metadata": {},
   "source": [
    "STEP 6"
   ]
  },
  {
   "cell_type": "markdown",
   "id": "2caaa7c1-75f3-402d-a9c6-cad618c22a8e",
   "metadata": {},
   "source": [
    "The importance rankings obtained from the model align well with findings in the literature on urban fire forecasting. Prior studies have highlighted the role of spatial concentration (e.g., incident clustering in certain districts) and seasonal dynamics in influencing fire frequency. Features such as district-specific fire density and month-based seasonality were also found to be significant in works by Schmidt et al. (2022) and Lima et al. (2021). In contrast, binary temporal indicators like weekend status were expected to be weak predictors, and this was confirmed by their low importance in the model. These results support the validity of the selected predictors and reinforce their operational relevance."
   ]
  },
  {
   "cell_type": "code",
   "execution_count": 41,
   "id": "c41eca83-191e-4929-aaa2-67237577e776",
   "metadata": {},
   "outputs": [
    {
     "data": {
      "image/png": "[encoded data removed]",
      "text/plain": [
       "<Figure size 800x600 with 1 Axes>"
      ]
     },
     "metadata": {},
     "output_type": "display_data"
    }
   ],
   "source": [
    "from sklearn.inspection import permutation_importance\n",
    "\n",
    "# Running permutation importance\n",
    "result = permutation_importance(\n",
    "    best_rf, X_test, y_test, \n",
    "    n_repeats=30,\n",
    "    random_state=42,\n",
    "    n_jobs=-1\n",
    ")\n",
    "\n",
    "# Putting into a dataframe\n",
    "perm_df = pd.DataFrame({\n",
    "    'Feature': X.columns,\n",
    "    'Importance Mean': result.importances_mean,\n",
    "    'Importance Std': result.importances_std\n",
    "}).sort_values(by='Importance Mean', ascending=False)\n",
    "\n",
    "# Plot\n",
    "import matplotlib.pyplot as plt\n",
    "import seaborn as sns\n",
    "\n",
    "plt.figure(figsize=(8, 6))\n",
    "sns.barplot(x='Importance Mean', y='Feature', data=perm_df, color='b')\n",
    "plt.title('Permutation Importance (Random Forest)')\n",
    "plt.tight_layout()\n",
    "plt.show()\n"
   ]
  },
  {
   "cell_type": "markdown",
   "id": "e1c08b74-5c2a-47a9-94d0-813dafd5f818",
   "metadata": {},
   "source": [
    "To enhance the interpretability of the model, permutation importance was applied to quantify the contribution of each feature to the predictive performance. Unlike traditional impurity-based feature importances, permutation importance evaluates the impact of shuffling each variable on the model’s accuracy, providing a more robust measure. The results revealed that top_ilce_fire_count and month had the greatest influence on the model’s predictions, while temporal features such as is_weekend and dayofweek contributed minimally. This suggests that the number of incidents in the most affected district and seasonal patterns are more informative for predicting daily fire counts than weekly calendar structures."
   ]
  },
  {
   "cell_type": "markdown",
   "id": "71f31010-bcb7-43cf-8dd4-9ccf77d292ba",
   "metadata": {},
   "source": [
    "The permutation importance results aligned closely with the feature importances derived from the Random Forest model’s internal metrics. Both techniques consistently identified top_ilce_fire_count and month as the most influential predictors. However, permutation-based scores provided a clearer separation between impactful and negligible features by directly reflecting changes in model performance. This consistency across methods strengthened the reliability of the interpretability outcomes."
   ]
  },
  {
   "cell_type": "markdown",
   "id": "947d8a31-70f2-4319-94ef-a00bf675b9c2",
   "metadata": {},
   "source": [
    "STEP 7"
   ]
  },
  {
   "cell_type": "markdown",
   "id": "8a2b389f-f734-4efa-822b-f694038702b9",
   "metadata": {},
   "source": [
    "To evaluate the added value of the predictive model, a naive baseline was constructed using a Dummy Regressor with a mean strategy, which predicts the average fire count for all input cases. This baseline was previously implemented in Step 4, alongside the tuned Random Forest model. Three evaluation metrics—R² score, Mean Absolute Error (MAE), and Root Mean Squared Error (RMSE)—were selected to compare the two models. These metrics were chosen because they provide complementary insights: R² reflects explained variance, while MAE and RMSE quantify prediction error from different perspectives. The results clearly indicated that the Random Forest model outperformed the baseline across all metrics, demonstrating superior predictive capability and robustness."
   ]
  },
  {
   "cell_type": "code",
   "execution_count": 43,
   "id": "7b648556-24ac-4112-b39e-974392cbaae3",
   "metadata": {},
   "outputs": [
    {
     "data": {
      "text/html": [
       "<div>\n",
       "<style scoped>\n",
       "    .dataframe tbody tr th:only-of-type {\n",
       "        vertical-align: middle;\n",
       "    }\n",
       "\n",
       "    .dataframe tbody tr th {\n",
       "        vertical-align: top;\n",
       "    }\n",
       "\n",
       "    .dataframe thead th {\n",
       "        text-align: right;\n",
       "    }\n",
       "</style>\n",
       "<table border=\"1\" class=\"dataframe\">\n",
       "  <thead>\n",
       "    <tr style=\"text-align: right;\">\n",
       "      <th></th>\n",
       "      <th>Model</th>\n",
       "      <th>R² Score</th>\n",
       "      <th>MAE</th>\n",
       "      <th>RMSE</th>\n",
       "    </tr>\n",
       "  </thead>\n",
       "  <tbody>\n",
       "    <tr>\n",
       "      <th>0</th>\n",
       "      <td>Baseline (Dummy)</td>\n",
       "      <td>-0.009</td>\n",
       "      <td>15.49</td>\n",
       "      <td>18.71</td>\n",
       "    </tr>\n",
       "    <tr>\n",
       "      <th>1</th>\n",
       "      <td>Tuned Random Forest</td>\n",
       "      <td>0.759</td>\n",
       "      <td>6.51</td>\n",
       "      <td>9.14</td>\n",
       "    </tr>\n",
       "  </tbody>\n",
       "</table>\n",
       "</div>"
      ],
      "text/plain": [
       "                 Model  R² Score    MAE   RMSE\n",
       "0     Baseline (Dummy)    -0.009  15.49  18.71\n",
       "1  Tuned Random Forest     0.759   6.51   9.14"
      ]
     },
     "metadata": {},
     "output_type": "display_data"
    }
   ],
   "source": [
    "import pandas as pd\n",
    "\n",
    "# Results for baseline and tuned RF model\n",
    "comparison_df = pd.DataFrame({\n",
    "    'Model': ['Baseline (Dummy)', 'Tuned Random Forest'],\n",
    "    'R² Score': [-0.009, 0.759],\n",
    "    'MAE': [15.49, 6.51],\n",
    "    'RMSE': [18.71, 9.14]\n",
    "})\n",
    "\n",
    "# Displaying the comparison table\n",
    "import IPython.display as display\n",
    "display.display(comparison_df)\n"
   ]
  },
  {
   "cell_type": "code",
   "execution_count": 45,
   "id": "c9b4dc3b-f9ba-49e0-a27f-cf79fb6a46bc",
   "metadata": {},
   "outputs": [
    {
     "name": "stdout",
     "output_type": "stream",
     "text": [
      "Paired t-test: t = 7.271, p = 0.0000\n",
      "Conclusion: The difference in error is statistically significant (p < 0.05).\n"
     ]
    }
   ],
   "source": [
    "from scipy.stats import ttest_rel\n",
    "import numpy as np\n",
    "from sklearn.dummy import DummyRegressor\n",
    "\n",
    "# Train baseline model again to get predictions\n",
    "dummy = DummyRegressor(strategy=\"mean\")\n",
    "dummy.fit(X_train, y_train)\n",
    "y_pred_dummy = dummy.predict(X_test)\n",
    "\n",
    "# Compute absolute errors\n",
    "errors_dummy = np.abs(y_test - y_pred_dummy)\n",
    "errors_rf = np.abs(y_test - y_pred_best)\n",
    "\n",
    "# Paired t-test\n",
    "stat, p_value = ttest_rel(errors_dummy, errors_rf)\n",
    "\n",
    "print(f\"Paired t-test: t = {stat:.3f}, p = {p_value:.4f}\")\n",
    "if p_value < 0.05:\n",
    "    print(\"Conclusion: The difference in error is statistically significant (p < 0.05).\")\n",
    "else:\n",
    "    print(\"Conclusion: The difference is not statistically significant.\")\n"
   ]
  },
  {
   "cell_type": "markdown",
   "id": "c2291609-0bda-4af3-862d-3e6b14a05aa7",
   "metadata": {},
   "source": [
    "To assess whether the improvement in predictive accuracy was statistically significant, a paired t-test was conducted on the absolute errors produced by the baseline and the tuned Random Forest model. The test yielded a t-statistic of 7.271 with a p-value less than 0.0001, indicating a highly significant difference in model performance. Since the p-value was well below the 0.05 threshold, the null hypothesis—that the models perform equally well—was rejected. This confirms that the tuned Random Forest model did not merely outperform the naive baseline by chance, but offered a substantial and statistically validated improvement in predictive capability."
   ]
  },
  {
   "cell_type": "markdown",
   "id": "6111f690-6c13-4af6-a485-e9751cc8b6a6",
   "metadata": {},
   "source": [
    "STEP 8"
   ]
  },
  {
   "cell_type": "markdown",
   "id": "d233352f-b0da-4aa6-a58d-dbb424f9f6bb",
   "metadata": {},
   "source": [
    "The conducted analysis provides important contributions to understanding how fire incidents are distributed across time and space in İzmir, as well as how emergency services respond to these events. Using the 2023 Yılı Yangın Müdahale İstatistiği dataset, significant inequalities were identified in both the frequency of incidents and the duration of response times among districts. These insights can assist in designing targeted fire prevention policies and improving risk assessment at the municipal level. Additionally, a machine learning-based prediction model was developed to forecast daily fire occurrence, which can support more efficient deployment of firefighting personnel and resources. Given the increasing threat of urban fires due to climate change and population growth, such predictive tools are considered essential. Similar approaches have been validated in earlier studies, including those by Lima et al. (2021) and Schmidt et al. (2022), who highlighted the benefits of incorporating data analytics into emergency preparedness. The methodology can also be applied to future datasets, such as the 2025 Yılı Yangın Müdahale İstatistiği, to identify evolving trends and assess the effectiveness of policy changes over time. Overall, the findings contribute to the broader goal of enhancing public safety and environmental resilience through data-informed planning."
   ]
  },
  {
   "cell_type": "markdown",
   "id": "a1f27feb-393b-473c-aae7-a484cfa1d23d",
   "metadata": {},
   "source": [
    "STEP 9"
   ]
  },
  {
   "cell_type": "markdown",
   "id": "c911c846-ce63-4a2f-acc3-4fb90237c538",
   "metadata": {},
   "source": [
    "Both research questions posed at the beginning of the study were successfully addressed through the applied methodologies. The first question, regarding the spatiotemporal patterns of fire incidents and their association with socioeconomic indicators, was explored using statistical tests and aggregation techniques, which revealed meaningful disparities in emergency response times across districts. The second question, concerning the prediction of daily fire incident counts, was answered through the development and tuning of a Random Forest regression model that demonstrated strong predictive accuracy. While the machine learning approach allowed for flexible modeling and interpretability, limitations included the dependency on data quality, the presence of missing values in key variables, and the inability to capture certain behavioral or policy-related factors. The analysis was also constrained to a single year, preventing trend detection across time. Future work may involve extending the model to multi-year datasets, integrating external data sources such as weather or building age, and evaluating intervention effectiveness through causal inference methods. Despite these challenges, the study demonstrated the practical value of combining statistical and machine learning tools for urban fire risk assessment and emergency response optimization."
   ]
  },
  {
   "cell_type": "markdown",
   "id": "090d7367-5a71-49c5-a6ed-18fe70bda730",
   "metadata": {},
   "source": [
    "FIGURE/TABLE SELECTIN & EXPORT FOR THE PAPER"
   ]
  },
  {
   "cell_type": "code",
   "execution_count": 47,
   "id": "9981ec23-344b-4c01-a261-6fa63f0ed965",
   "metadata": {},
   "outputs": [
    {
     "data": {
      "image/png": "[encoded data removed]",
      "text/plain": [
       "<Figure size 800x600 with 1 Axes>"
      ]
     },
     "metadata": {},
     "output_type": "display_data"
    }
   ],
   "source": [
    "import matplotlib.pyplot as plt\n",
    "import seaborn as sns\n",
    "import pandas as pd\n",
    "\n",
    "# Assuming 'best_rf' is your trained Random Forest model and 'X' is your feature set\n",
    "importances = best_rf.feature_importances_\n",
    "feature_names = X.columns\n",
    "\n",
    "feat_imp_df = pd.DataFrame({\n",
    "    'Feature': feature_names,\n",
    "    'Importance': importances\n",
    "}).sort_values(by='Importance', ascending=False)\n",
    "\n",
    "# Exporting the figure\n",
    "plt.figure(figsize=(8, 6))\n",
    "sns.barplot(x='Importance', y='Feature', data=feat_imp_df, color='b')\n",
    "plt.title('Feature Importances (Random Forest)')\n",
    "plt.tight_layout()\n",
    "\n",
    "# Saving as high-quality PNG (300 dpi)\n",
    "plt.savefig(\"fig1_feature_importance.png\", dpi=300, bbox_inches='tight')\n",
    "\n",
    "plt.show()\n"
   ]
  },
  {
   "cell_type": "code",
   "execution_count": 53,
   "id": "fa83938b-d8ec-4671-ae1d-9c8ceee0942a",
   "metadata": {},
   "outputs": [
    {
     "data": {
      "image/png": "[encoded data removed]",
      "text/plain": [
       "<Figure size 600x200 with 1 Axes>"
      ]
     },
     "metadata": {},
     "output_type": "display_data"
    }
   ],
   "source": [
    "import matplotlib.pyplot as plt\n",
    "\n",
    "fig, ax = plt.subplots(figsize=(6, 2))\n",
    "ax.axis('off')\n",
    "\n",
    "table = ax.table(cellText=comparison_df.values,\n",
    "                 colLabels=comparison_df.columns,\n",
    "                 cellLoc='center',\n",
    "                 loc='center')\n",
    "\n",
    "table.auto_set_font_size(False)\n",
    "table.set_fontsize(10)\n",
    "\n",
    "col_widths = [0.35, 0.2, 0.2, 0.2] \n",
    "\n",
    "for i, width in enumerate(col_widths):\n",
    "    table.auto_set_column_width(i)\n",
    "    for j in range(len(comparison_df) + 1):  \n",
    "        cell = table[(j, i)]\n",
    "        cell.set_width(width)\n",
    "\n",
    "plt.tight_layout()\n",
    "plt.savefig(\"tab2_model_comparison.png\", dpi=300, bbox_inches='tight')\n",
    "plt.show()\n"
   ]
  },
  {
   "cell_type": "code",
   "execution_count": 63,
   "id": "f61bf787-c250-4208-bdf6-5afd656d0011",
   "metadata": {},
   "outputs": [
    {
     "data": {
      "image/png": "[encoded data removed]",
      "text/plain": [
       "<Figure size 400x150 with 1 Axes>"
      ]
     },
     "metadata": {},
     "output_type": "display_data"
    }
   ],
   "source": [
    "kw_df = pd.DataFrame([kruskal_result])\n",
    "\n",
    "fig, ax = plt.subplots(figsize=(4, 1.5))\n",
    "ax.axis('off')\n",
    "\n",
    "table = ax.table(cellText=kw_df.values,\n",
    "                 colLabels=kw_df.columns,\n",
    "                 cellLoc='center',\n",
    "                 loc='center')\n",
    "\n",
    "table.auto_set_font_size(False)\n",
    "table.set_fontsize(10)\n",
    "\n",
    "plt.tight_layout()\n",
    "plt.savefig(\"tab1_kruskal_summary.png\", dpi=300, bbox_inches='tight')\n",
    "plt.show()\n"
   ]
  },
  {
   "cell_type": "code",
   "execution_count": null,
   "id": "84efd53a-5e8b-451f-a2b7-d6e2e847b4df",
   "metadata": {},
   "outputs": [],
   "source": []
  }
 ],
 "metadata": {
  "kernelspec": {
   "display_name": "Python 3 (ipykernel)",
   "language": "python",
   "name": "python3"
  },
  "language_info": {
   "codemirror_mode": {
    "name": "ipython",
    "version": 3
   },
   "file_extension": ".py",
   "mimetype": "text/x-python",
   "name": "python",
   "nbconvert_exporter": "python",
   "pygments_lexer": "ipython3",
   "version": "3.12.7"
  }
 },
 "nbformat": 4,
 "nbformat_minor": 5
}
